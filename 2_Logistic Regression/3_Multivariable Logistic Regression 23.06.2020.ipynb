{
 "cells": [
  {
   "cell_type": "markdown",
   "metadata": {},
   "source": [
    "### Importing Libraries"
   ]
  },
  {
   "cell_type": "code",
   "execution_count": 37,
   "metadata": {},
   "outputs": [],
   "source": [
    "import numpy as np\n",
    "import pandas as pd\n",
    "import matplotlib.pyplot as plt\n",
    "from sklearn.linear_model import LogisticRegression\n",
    "from sklearn.datasets import make_regression, make_classification\n",
    "from sklearn.model_selection import cross_validate\n",
    "from sklearn.datasets import make_blobs"
   ]
  },
  {
   "cell_type": "markdown",
   "metadata": {},
   "source": [
    "### Sigmoid is classification fonction"
   ]
  },
  {
   "cell_type": "code",
   "execution_count": 2,
   "metadata": {},
   "outputs": [],
   "source": [
    "def sigmoid(X):\n",
    "    return (1 / (1+ np.exp(-X)))"
   ]
  },
  {
   "cell_type": "code",
   "execution_count": 3,
   "metadata": {},
   "outputs": [
    {
     "data": {
      "text/plain": [
       "[<matplotlib.lines.Line2D at 0x1104dcdfe88>]"
      ]
     },
     "execution_count": 3,
     "metadata": {},
     "output_type": "execute_result"
    },
    {
     "data": {
      "image/png": "[encoded data removed]",
      "text/plain": [
       "<Figure size 432x288 with 1 Axes>"
      ]
     },
     "metadata": {
      "needs_background": "light"
     },
     "output_type": "display_data"
    }
   ],
   "source": [
    "X=np.linspace(-10,10,100)\n",
    "y= sigmoid(X)\n",
    "plt.plot(X,y)"
   ]
  },
  {
   "cell_type": "code",
   "execution_count": 4,
   "metadata": {},
   "outputs": [],
   "source": [
    "def sigmoid(X1, X2):\n",
    "    # X1= ağırlık\n",
    "    # X2 = çap\n",
    "    b0 = -6 # intercept değeri\n",
    "    b1 = 0.02\n",
    "    b2 = 0.8\n",
    "    Linear = b0 + b1*X1 + b2*X2\n",
    "    return (1 / (1+ np.exp(-Linear)))"
   ]
  },
  {
   "cell_type": "code",
   "execution_count": 5,
   "metadata": {},
   "outputs": [
    {
     "data": {
      "text/plain": [
       "0.8320183851339246"
      ]
     },
     "execution_count": 5,
     "metadata": {},
     "output_type": "execute_result"
    }
   ],
   "source": [
    "X1 = 60\n",
    "X2 = 8\n",
    "y_pred = sigmoid(X1, X2)\n",
    "y_pred"
   ]
  },
  {
   "cell_type": "code",
   "execution_count": 6,
   "metadata": {},
   "outputs": [
    {
     "data": {
      "text/plain": [
       "array([1.7838281 , 1.78381184, 1.78379194, 1.78376759, 1.78373778,\n",
       "       1.78370131, 1.78365666, 1.78360203, 1.78353517, 1.78345336,\n",
       "       1.78335323, 1.78323071, 1.78308079, 1.78289734, 1.78267288,\n",
       "       1.78239825, 1.78206227, 1.78165127, 1.78114854, 1.78053369,\n",
       "       1.77978184, 1.77886264, 1.77773909, 1.77636616, 1.77468908,\n",
       "       1.77264136, 1.77014236, 1.76709459, 1.7633804 , 1.75885836,\n",
       "       1.75335907, 1.74668068, 1.73858413, 1.72878843, 1.71696644,\n",
       "       1.70274176, 1.68568777, 1.66532996, 1.64115344, 1.61261731,\n",
       "       1.57917801, 1.54032342, 1.49561819, 1.44475941, 1.38763866,\n",
       "       1.3244033 , 1.25550645, 1.18173351, 1.10419375, 1.02427046,\n",
       "       0.94353102, 0.86360773, 0.78606797, 0.71229503, 0.64339818,\n",
       "       0.58016282, 0.52304208, 0.47218329, 0.42747806, 0.38862347,\n",
       "       0.35518417, 0.32664804, 0.30247152, 0.28211371, 0.26505972,\n",
       "       0.25083504, 0.23901305, 0.22921735, 0.2211208 , 0.21444241,\n",
       "       0.20894312, 0.20442108, 0.20070689, 0.19765912, 0.19516013,\n",
       "       0.1931124 , 0.19143532, 0.19006239, 0.18893884, 0.18801964,\n",
       "       0.18726779, 0.18665294, 0.18615021, 0.18573921, 0.18540323,\n",
       "       0.1851286 , 0.18490414, 0.18472069, 0.18457077, 0.18444825,\n",
       "       0.18434812, 0.18426631, 0.18419945, 0.18414482, 0.18410018,\n",
       "       0.1840637 , 0.18403389, 0.18400954, 0.18398964, 0.18397338])"
      ]
     },
     "execution_count": 6,
     "metadata": {},
     "output_type": "execute_result"
    }
   ],
   "source": [
    "-np.log(y_pred)*y - (np.log(1-y_pred))* (1-y)"
   ]
  },
  {
   "cell_type": "code",
   "execution_count": 7,
   "metadata": {},
   "outputs": [
    {
     "data": {
      "text/plain": [
       "2.120263536200091"
      ]
     },
     "execution_count": 7,
     "metadata": {},
     "output_type": "execute_result"
    }
   ],
   "source": [
    "-np.log(0.12)"
   ]
  },
  {
   "cell_type": "code",
   "execution_count": 8,
   "metadata": {},
   "outputs": [
    {
     "name": "stderr",
     "output_type": "stream",
     "text": [
      "C:\\Users\\pc\\AppData\\Local\\Programs\\Python\\Python37\\lib\\site-packages\\ipykernel_launcher.py:1: RuntimeWarning: divide by zero encountered in log\n",
      "  \"\"\"Entry point for launching an IPython kernel.\n"
     ]
    },
    {
     "data": {
      "text/plain": [
       "inf"
      ]
     },
     "execution_count": 8,
     "metadata": {},
     "output_type": "execute_result"
    }
   ],
   "source": [
    "-np.log(0)"
   ]
  },
  {
   "cell_type": "code",
   "execution_count": 9,
   "metadata": {},
   "outputs": [
    {
     "data": {
      "text/plain": [
       "2.120263536200091"
      ]
     },
     "execution_count": 9,
     "metadata": {},
     "output_type": "execute_result"
    }
   ],
   "source": [
    "-np.log(0.12)"
   ]
  },
  {
   "cell_type": "code",
   "execution_count": 10,
   "metadata": {},
   "outputs": [],
   "source": [
    "def loss(y, y_pred): # calculating loss func\n",
    "    return -np.log(y_pred)*y - (np.log(1-y_pred))* (1-y)"
   ]
  },
  {
   "cell_type": "code",
   "execution_count": 11,
   "metadata": {},
   "outputs": [
    {
     "name": "stderr",
     "output_type": "stream",
     "text": [
      "C:\\Users\\pc\\AppData\\Local\\Programs\\Python\\Python37\\lib\\site-packages\\ipykernel_launcher.py:2: RuntimeWarning: divide by zero encountered in log\n",
      "  \n"
     ]
    },
    {
     "data": {
      "text/plain": [
       "inf"
      ]
     },
     "execution_count": 11,
     "metadata": {},
     "output_type": "execute_result"
    }
   ],
   "source": [
    "loss(1, 0)"
   ]
  },
  {
   "cell_type": "code",
   "execution_count": 12,
   "metadata": {},
   "outputs": [
    {
     "data": {
      "text/plain": [
       "0.12783337150988489"
      ]
     },
     "execution_count": 12,
     "metadata": {},
     "output_type": "execute_result"
    }
   ],
   "source": [
    "loss(1, 0.88)"
   ]
  },
  {
   "cell_type": "code",
   "execution_count": 13,
   "metadata": {},
   "outputs": [],
   "source": [
    "y_pred= np.linspace(0.01, 0.99, 100)"
   ]
  },
  {
   "cell_type": "code",
   "execution_count": 14,
   "metadata": {},
   "outputs": [
    {
     "data": {
      "image/png": "[encoded data removed]",
      "text/plain": [
       "<Figure size 432x288 with 1 Axes>"
      ]
     },
     "metadata": {
      "needs_background": "light"
     },
     "output_type": "display_data"
    }
   ],
   "source": [
    "plt.plot(y_pred, loss(1, y_pred), label= \"y=1\")\n",
    "plt.plot(y_pred, loss(0, y_pred), label= \"y=0\")\n",
    "plt.xlabel(\"y probas\")\n",
    "plt.ylabel(\"Loss\")\n",
    "plt.legend()\n",
    "plt.show()"
   ]
  },
  {
   "cell_type": "code",
   "execution_count": 15,
   "metadata": {},
   "outputs": [],
   "source": [
    "import numpy as np\n",
    "from warnings import warn\n",
    "def sigmoid(X):\n",
    "    return (1 / (1+ np.exp(-X)))\n",
    "\n",
    "\n",
    "class Logistic:\n",
    "\n",
    "    def __init__(self, fit_intercept=True, cozum=\"Normal\", lr=0.01, tol=10**-6, max_iter=10000, lamda=0.0):\n",
    "        self.fit_intercept = fit_intercept\n",
    "        self.cozum = cozum\n",
    "        self.b = None\n",
    "        self.lr=lr\n",
    "        self.tol=tol\n",
    "        self.max_iter=max_iter\n",
    "        self.lamda=lamda\n",
    "\n",
    "    def __repr__(self):\n",
    "        return f\"Linear(cozum={self.cozum},lr={self.lr})\"\n",
    "\n",
    "    def katsayi(self, X,y):\n",
    "        if self.cozum == 'Normal':\n",
    "            self._normal(X, y)\n",
    "        elif self.cozum == 'Gradient':\n",
    "            self._gradient(X, y)\n",
    "        else:\n",
    "            raise ValueError('Gecersiz cozum yontemi.')\n",
    "        return self\n",
    "    \n",
    "    \n",
    "    def fit(self, X,y):\n",
    "        return self.katsayi(X,y)\n",
    "\n",
    "    \n",
    "    def _gradient(self, X, y, normalize=False):\n",
    "        if self.fit_intercept:\n",
    "            birler = np.ones((X.shape[0], 1))\n",
    "            X = np.hstack([birler, X])\n",
    "\n",
    "        b = np.random.randn(X.shape[1], y.shape[1])\n",
    "\n",
    "        for iter_ in range(self.max_iter):\n",
    "            y_pred = sigmoid(X @ b)  # feed_forward\n",
    "            L = -np.log(y_pred)*y - (np.log(1-y_pred))* (1-y)\n",
    "            #print(\"L shape= \", L.shape) \n",
    "            dy_pred  = (-y / y_pred) - (-1 / (1-y_pred)) * (1-y)\n",
    "            dz = y_pred * (1-y_pred)\n",
    "            dw = X.T\n",
    "            gradient = dw @(dy_pred * dz)\n",
    "            #print(gradient.shape)\n",
    "#             dw @ ((-y / y_pred) - (-1 / 1-y_pred) * (1-y)) *( y_pred * (1-y_pred))\n",
    "            regterm=(2 * self.lamda * b)\n",
    "            dw = gradient +  regterm  # back_propogation\n",
    "            b = b - self.lr * (dw)\n",
    "\n",
    "            is_converged = (dw < self.tol).all()\n",
    "            if is_converged:\n",
    "                break\n",
    "\n",
    "        if not is_converged:\n",
    "            warn('Model yakinsamadi. Azami iterasyon sayisini arttirmayi deneyiniz.')\n",
    "\n",
    "        self.b = b\n",
    "\n",
    "    def tahmin_et(self, X):\n",
    "        if self.fit_intercept:\n",
    "            birler = np.ones((X.shape[0],1))\n",
    "            X= np.hstack([birler , X])\n",
    "        \n",
    "        y_pred= sigmoid(X @ self.b)\n",
    "        return y_pred\n",
    "    \n",
    "    def predict(self, X):\n",
    "        return self.tahmin_et(X)\n",
    "    \n",
    "    def score(self, X, y):\n",
    "        y_pred = self.predict(X)\n",
    "        return np.mean(y == (y_pred >= 0.5))\n",
    "    "
   ]
  },
  {
   "cell_type": "code",
   "execution_count": 16,
   "metadata": {},
   "outputs": [],
   "source": [
    "from sklearn.datasets import make_classification\n",
    "X,y= make_classification(n_samples=500)"
   ]
  },
  {
   "cell_type": "code",
   "execution_count": 17,
   "metadata": {},
   "outputs": [
    {
     "data": {
      "text/plain": [
       "(500, 20)"
      ]
     },
     "execution_count": 17,
     "metadata": {},
     "output_type": "execute_result"
    }
   ],
   "source": [
    "X.shape"
   ]
  },
  {
   "cell_type": "code",
   "execution_count": 18,
   "metadata": {},
   "outputs": [
    {
     "data": {
      "text/plain": [
       "(500, 1)"
      ]
     },
     "execution_count": 18,
     "metadata": {},
     "output_type": "execute_result"
    }
   ],
   "source": [
    "y= y.reshape(-1,1)\n",
    "y.shape"
   ]
  },
  {
   "cell_type": "code",
   "execution_count": 19,
   "metadata": {},
   "outputs": [
    {
     "data": {
      "text/plain": [
       "0.928"
      ]
     },
     "execution_count": 19,
     "metadata": {},
     "output_type": "execute_result"
    }
   ],
   "source": [
    "classifier = Logistic(cozum= \"Gradient\", lr=0.001, max_iter=10000)\n",
    "classifier.fit(X,y)\n",
    "y_pred = classifier.predict(X)\n",
    "classifier.score(X,y)"
   ]
  },
  {
   "cell_type": "code",
   "execution_count": 20,
   "metadata": {},
   "outputs": [
    {
     "data": {
      "text/plain": [
       "array([[-0.58855837],\n",
       "       [ 0.20358948],\n",
       "       [ 0.33537448],\n",
       "       [ 0.05508667],\n",
       "       [-0.45783524],\n",
       "       [ 3.50472971],\n",
       "       [-0.06612539],\n",
       "       [ 0.31748318],\n",
       "       [ 1.0538892 ],\n",
       "       [-0.1606451 ],\n",
       "       [-0.07422993],\n",
       "       [-0.13160474],\n",
       "       [ 0.13209871],\n",
       "       [-0.03587944],\n",
       "       [-0.28358233],\n",
       "       [ 0.05144205],\n",
       "       [ 0.35025238],\n",
       "       [ 0.06671076],\n",
       "       [-0.02847738],\n",
       "       [-0.14413699],\n",
       "       [ 0.23060677]])"
      ]
     },
     "execution_count": 20,
     "metadata": {},
     "output_type": "execute_result"
    }
   ],
   "source": [
    "classifier.b"
   ]
  },
  {
   "cell_type": "code",
   "execution_count": 21,
   "metadata": {},
   "outputs": [
    {
     "name": "stderr",
     "output_type": "stream",
     "text": [
      "C:\\Users\\pc\\AppData\\Local\\Programs\\Python\\Python37\\lib\\site-packages\\sklearn\\utils\\validation.py:760: DataConversionWarning: A column-vector y was passed when a 1d array was expected. Please change the shape of y to (n_samples, ), for example using ravel().\n",
      "  y = column_or_1d(y, warn=True)\n"
     ]
    },
    {
     "data": {
      "text/plain": [
       "0.924"
      ]
     },
     "execution_count": 21,
     "metadata": {},
     "output_type": "execute_result"
    }
   ],
   "source": [
    "clasi = LogisticRegression()\n",
    "clasi.fit(X,y)\n",
    "clasi.predict(X)\n",
    "clasi.score(X,y)"
   ]
  },
  {
   "cell_type": "code",
   "execution_count": null,
   "metadata": {},
   "outputs": [],
   "source": []
  },
  {
   "cell_type": "code",
   "execution_count": null,
   "metadata": {},
   "outputs": [],
   "source": []
  },
  {
   "cell_type": "code",
   "execution_count": 100,
   "metadata": {},
   "outputs": [],
   "source": [
    "import numpy as np\n",
    "from warnings import warn\n",
    "def sigmoid(X):\n",
    "    return (1 / (1+ np.exp(-X)))\n",
    "\n",
    "\n",
    "class MultiLogistic(Logistic): # Logistic inherit ettiğimiz için aşağıdaki metodları tekrar kullanmaya gerek yok.\n",
    "    \n",
    "    def __init__(self, fit_intercept=True, cozum=\"Gradient\", lr=0.01, tol=10**-6, max_iter=10000, lamda=0.0):\n",
    "        self.models = []\n",
    "        self.fit_intercept = fit_intercept\n",
    "        self.cozum = cozum\n",
    "        self.b = None\n",
    "        self.lr=lr\n",
    "        self.tol=tol\n",
    "        self.max_iter=max_iter\n",
    "        self.lamda=lamda\n",
    "\n",
    "    def get_params(self, deep=True):\n",
    "        param = [\"fit_intercept\",\"cozum\",\"lr\",\"tol\",\"max_iter\",\"lamda\"]\n",
    "        return {p:getattr(self,p) for p in param}\n",
    "        \n",
    "    def __repr__(self):\n",
    "        return f\"Logistic(cozum={self.cozum},lr={self.lr})\"\n",
    "\n",
    "    def katsayi(self, X,y):\n",
    "        encoded = (y == sorted(set(y.ravel()))).astype(int)\n",
    "        for col in encoded.T:\n",
    "            model = Logistic(**self.get_params())\n",
    "            model.fit(X,col.reshape(-1,1))\n",
    "            self.models.append(model)\n",
    "        return self\n",
    "        \n",
    "#     def fit(self, X,y):\n",
    "#         return self.katsayi(X,y)\n",
    "\n",
    "    def tahmin_et(self, X):\n",
    "        kolonlar = self.predict_proba(X)\n",
    "        return kolonlar.argmax(axis=1)\n",
    "    \n",
    "#     def predict(self, X):\n",
    "#         return self.tahmin_et(X)\n",
    "    \n",
    "    def predict_proba(self,X):\n",
    "        kolonlar = []\n",
    "        for model in self.models:\n",
    "            y_pred_c = model.predict(X)\n",
    "            kolonlar.append(y_pred_c.ravel())\n",
    "        kolonlar = np.array(kolonlar).T\n",
    "        return np.exp(kolonlar)/np.exp(kolonlar).sum(axis=1,keepdims=True)        \n",
    "        \n",
    "    def score(self, X, y):\n",
    "        y_pred = self.predict(X)\n",
    "        return np.mean(y.ravel() == (y_pred.ravel()))"
   ]
  },
  {
   "cell_type": "markdown",
   "metadata": {},
   "source": [
    "# Example:"
   ]
  },
  {
   "cell_type": "code",
   "execution_count": 101,
   "metadata": {},
   "outputs": [],
   "source": [
    "X, y = make_blobs(centers=4,random_state=42)"
   ]
  },
  {
   "cell_type": "code",
   "execution_count": 102,
   "metadata": {},
   "outputs": [],
   "source": [
    "model = MultiLogistic(cozum=\"Gradient\", lr=0.001)"
   ]
  },
  {
   "cell_type": "code",
   "execution_count": 103,
   "metadata": {},
   "outputs": [
    {
     "name": "stderr",
     "output_type": "stream",
     "text": [
      "C:\\Users\\pc\\AppData\\Local\\Programs\\Python\\Python37\\lib\\site-packages\\ipykernel_launcher.py:61: UserWarning: Model yakinsamadi. Azami iterasyon sayisini arttirmayi deneyiniz.\n"
     ]
    },
    {
     "data": {
      "text/plain": [
       "Logistic(cozum=Gradient,lr=0.001)"
      ]
     },
     "execution_count": 103,
     "metadata": {},
     "output_type": "execute_result"
    }
   ],
   "source": [
    "model.fit(X,y.reshape(-1,1))"
   ]
  },
  {
   "cell_type": "code",
   "execution_count": 104,
   "metadata": {},
   "outputs": [
    {
     "data": {
      "text/plain": [
       "array([3, 2, 0, 2, 3, 2, 1, 1, 1, 0, 0, 2, 2, 1, 0, 3, 3, 1, 3, 3, 0, 3,\n",
       "       3, 1, 1, 0, 1, 3, 3, 2, 2, 1, 2, 3, 0, 0, 0, 0, 1, 1, 3, 1, 2, 0,\n",
       "       0, 2, 2, 3, 3, 1, 1, 1, 1, 2, 3, 3, 0, 0, 1, 0, 2, 1, 3, 2, 3, 3,\n",
       "       2, 3, 1, 2, 1, 2, 3, 0, 2, 3, 2, 3, 2, 2, 1, 2, 0, 3, 0, 0, 0, 2,\n",
       "       0, 1, 1, 2, 0, 2, 0, 0, 0, 1, 3, 1], dtype=int64)"
      ]
     },
     "execution_count": 104,
     "metadata": {},
     "output_type": "execute_result"
    }
   ],
   "source": [
    "model.tahmin_et(X)"
   ]
  },
  {
   "cell_type": "code",
   "execution_count": 105,
   "metadata": {},
   "outputs": [
    {
     "data": {
      "text/plain": [
       "1.0"
      ]
     },
     "execution_count": 105,
     "metadata": {},
     "output_type": "execute_result"
    }
   ],
   "source": [
    "model.score(X,y)"
   ]
  },
  {
   "cell_type": "code",
   "execution_count": 106,
   "metadata": {},
   "outputs": [
    {
     "data": {
      "text/plain": [
       "array([[0.17538459, 0.17537271, 0.17570658, 0.47353612],\n",
       "       [0.17486123, 0.17487067, 0.4753221 , 0.174946  ],\n",
       "       [0.47193126, 0.17447665, 0.17447523, 0.17911686],\n",
       "       [0.17486432, 0.17490988, 0.47533052, 0.17489528],\n",
       "       [0.17954638, 0.17543523, 0.17543561, 0.46958278]])"
      ]
     },
     "execution_count": 106,
     "metadata": {},
     "output_type": "execute_result"
    }
   ],
   "source": [
    "model.predict_proba(X)[0:5,:]"
   ]
  },
  {
   "cell_type": "code",
   "execution_count": 107,
   "metadata": {},
   "outputs": [
    {
     "data": {
      "text/plain": [
       "{'fit_intercept': True,\n",
       " 'cozum': 'Gradient',\n",
       " 'lr': 0.001,\n",
       " 'tol': 1e-06,\n",
       " 'max_iter': 10000,\n",
       " 'lamda': 0.0}"
      ]
     },
     "execution_count": 107,
     "metadata": {},
     "output_type": "execute_result"
    }
   ],
   "source": [
    "model.get_params()"
   ]
  },
  {
   "cell_type": "markdown",
   "metadata": {},
   "source": [
    "# Kenar Çözümler / Örnekler"
   ]
  },
  {
   "cell_type": "code",
   "execution_count": 60,
   "metadata": {},
   "outputs": [],
   "source": [
    "a = [0.15, 0.23, 0.81]"
   ]
  },
  {
   "cell_type": "code",
   "execution_count": 65,
   "metadata": {},
   "outputs": [
    {
     "data": {
      "text/plain": [
       "array([0.24887512, 0.2696032 , 0.48152168])"
      ]
     },
     "execution_count": 65,
     "metadata": {},
     "output_type": "execute_result"
    }
   ],
   "source": [
    "np.exp(a)/np.exp(a).sum() # softmax"
   ]
  },
  {
   "cell_type": "code",
   "execution_count": 66,
   "metadata": {},
   "outputs": [
    {
     "data": {
      "text/plain": [
       "array([0.12605042, 0.19327731, 0.68067227])"
      ]
     },
     "execution_count": 66,
     "metadata": {},
     "output_type": "execute_result"
    }
   ],
   "source": [
    "a/np.sum(a)"
   ]
  },
  {
   "cell_type": "code",
   "execution_count": 68,
   "metadata": {},
   "outputs": [],
   "source": [
    "a = [[0.15, 0.23, 0.81], [0.15, 0.23, 0.81]]"
   ]
  },
  {
   "cell_type": "code",
   "execution_count": 71,
   "metadata": {},
   "outputs": [
    {
     "data": {
      "text/plain": [
       "array([[0.24887512, 0.2696032 , 0.48152168],\n",
       "       [0.24887512, 0.2696032 , 0.48152168]])"
      ]
     },
     "execution_count": 71,
     "metadata": {},
     "output_type": "execute_result"
    }
   ],
   "source": [
    "np.exp(a)/np.exp(a).sum(axis=1,keepdims=True)"
   ]
  },
  {
   "cell_type": "code",
   "execution_count": null,
   "metadata": {},
   "outputs": [],
   "source": []
  },
  {
   "cell_type": "code",
   "execution_count": null,
   "metadata": {},
   "outputs": [],
   "source": []
  },
  {
   "cell_type": "code",
   "execution_count": 29,
   "metadata": {},
   "outputs": [],
   "source": [
    "y = np.random.randint(0,3,size=(10,1))"
   ]
  },
  {
   "cell_type": "code",
   "execution_count": 30,
   "metadata": {},
   "outputs": [
    {
     "data": {
      "text/plain": [
       "array([[0],\n",
       "       [2],\n",
       "       [2],\n",
       "       [2],\n",
       "       [0],\n",
       "       [0],\n",
       "       [0],\n",
       "       [1],\n",
       "       [1],\n",
       "       [2]])"
      ]
     },
     "execution_count": 30,
     "metadata": {},
     "output_type": "execute_result"
    }
   ],
   "source": [
    "y"
   ]
  },
  {
   "cell_type": "code",
   "execution_count": 35,
   "metadata": {},
   "outputs": [
    {
     "data": {
      "text/plain": [
       "array([[1, 0, 0],\n",
       "       [0, 0, 1],\n",
       "       [0, 0, 1],\n",
       "       [0, 0, 1],\n",
       "       [1, 0, 0],\n",
       "       [1, 0, 0],\n",
       "       [1, 0, 0],\n",
       "       [0, 1, 0],\n",
       "       [0, 1, 0],\n",
       "       [0, 0, 1]])"
      ]
     },
     "execution_count": 35,
     "metadata": {},
     "output_type": "execute_result"
    }
   ],
   "source": [
    "(y == sorted(set(y.ravel()))).astype(int)"
   ]
  }
 ],
 "metadata": {
  "kernelspec": {
   "display_name": "Python 3",
   "language": "python",
   "name": "python3"
  },
  "language_info": {
   "codemirror_mode": {
    "name": "ipython",
    "version": 3
   },
   "file_extension": ".py",
   "mimetype": "text/x-python",
   "name": "python",
   "nbconvert_exporter": "python",
   "pygments_lexer": "ipython3",
   "version": "3.7.4"
  }
 },
 "nbformat": 4,
 "nbformat_minor": 2
}
