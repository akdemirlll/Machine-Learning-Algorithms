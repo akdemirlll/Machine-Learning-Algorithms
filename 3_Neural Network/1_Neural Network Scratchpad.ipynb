{
 "cells": [
  {
   "cell_type": "markdown",
   "metadata": {},
   "source": [
    "## Regression Example with Neural Network"
   ]
  },
  {
   "cell_type": "code",
   "execution_count": 1,
   "metadata": {},
   "outputs": [
    {
     "data": {
      "text/plain": [
       "Text(0, 0.5, 'y')"
      ]
     },
     "execution_count": 1,
     "metadata": {},
     "output_type": "execute_result"
    },
    {
     "data": {
      "image/png": "[encoded data removed]",
      "text/plain": [
       "<Figure size 432x288 with 1 Axes>"
      ]
     },
     "metadata": {
      "needs_background": "light"
     },
     "output_type": "display_data"
    }
   ],
   "source": [
    "import numpy as np\n",
    "import matplotlib.pyplot as plt\n",
    "\n",
    "def keyfi_fonksiyon(X):\n",
    "#     y = np.log(X) + X**3\n",
    "    y = np.log(X)\n",
    "    return y\n",
    "\n",
    "X = np.linspace(1, 20, 1000)\n",
    "\n",
    "y = keyfi_fonksiyon(X)\n",
    "\n",
    "\n",
    "plt.plot(X, y)\n",
    "plt.xlabel('X')\n",
    "plt.ylabel('y')"
   ]
  },
  {
   "cell_type": "code",
   "execution_count": 5,
   "metadata": {},
   "outputs": [
    {
     "name": "stdout",
     "output_type": "stream",
     "text": [
      "Automatic pdb calling has been turned OFF\n",
      "46.942149482386114\n",
      "0.05248258816682906\n",
      "0.011693098649422192\n",
      "0.007560128251485717\n",
      "0.006803180504848794\n",
      "0.006428497395620678\n",
      "0.005933450639002366\n",
      "0.005160853743940803\n",
      "0.004407149097831732\n",
      "0.003712740327003992\n"
     ]
    }
   ],
   "source": [
    "def sigmoid(x):\n",
    "    return 1 / (1 + np.exp(-x))\n",
    "\n",
    "def neural_network(X, y, lr=0.1, epoch=1000):\n",
    "\n",
    "    if X.ndim == 1:\n",
    "        X = X.reshape(-1, 1)\n",
    "    if y.ndim == 1:\n",
    "        y = y.reshape(-1, 1)\n",
    "\n",
    "    m = X.shape[0]\n",
    "    \n",
    "    w0 = np.random.uniform(0, 1, (1, 19))\n",
    "    w1 = np.random.uniform(0, 1, (19, 1))\n",
    "\n",
    "    for _ in range(epoch):\n",
    "        # Forward propagation\n",
    "\n",
    "        z1 = X @ w0\n",
    "        \n",
    "        a1 = sigmoid(z1)\n",
    "\n",
    "        z2 = a1 @ w1\n",
    "        ypred = z2\n",
    "\n",
    "        # Loss\n",
    "        L = (0.5 * ((y - ypred)**2) / m).sum()\n",
    "        if _ % 100 == 0:\n",
    "            print(L)\n",
    "\n",
    "        # Back-propagation\n",
    "\n",
    "        dL_dypred = (ypred - y) / m\n",
    "        dypred_dw1 = a1\n",
    "\n",
    "        dLdw1 = dypred_dw1.T @ dL_dypred\n",
    "\n",
    "        dypred_da1 = w1\n",
    "        da1_dz1 = a1 * (1 - a1)\n",
    "        dz1_dw0 = X\n",
    "\n",
    "        dLdw0 = dz1_dw0.T @ (dL_dypred @ dypred_da1.T * da1_dz1)\n",
    "\n",
    "        \n",
    "        w0 = w0 - lr * dLdw0\n",
    "        w1 = w1 - lr * dLdw1\n",
    "\n",
    "    return w0, w1, L, ypred\n",
    "\n",
    "import warnings\n",
    "warnings.filterwarnings('error')\n",
    "\n",
    "%pdb\n",
    "\n",
    "y_n = (y - y.mean()) / y.std()\n",
    "\n",
    "w0, w1, L, ypred = neural_network(X, y_n, 0.1, epoch=1000)"
   ]
  },
  {
   "cell_type": "code",
   "execution_count": 9,
   "metadata": {},
   "outputs": [
    {
     "data": {
      "text/plain": [
       "[<matplotlib.lines.Line2D at 0x1e92ecc9dc8>]"
      ]
     },
     "execution_count": 9,
     "metadata": {},
     "output_type": "execute_result"
    },
    {
     "data": {
      "image/png": "[encoded data removed]",
      "text/plain": [
       "<Figure size 432x288 with 1 Axes>"
      ]
     },
     "metadata": {
      "needs_background": "light"
     },
     "output_type": "display_data"
    }
   ],
   "source": [
    "plt.plot(X, ypred.ravel())\n",
    "plt.plot(X, y_n)"
   ]
  },
  {
   "cell_type": "markdown",
   "metadata": {},
   "source": [
    "- Keras\n",
    "- Tensorflow\n"
   ]
  },
  {
   "cell_type": "code",
   "execution_count": null,
   "metadata": {},
   "outputs": [],
   "source": []
  }
 ],
 "metadata": {
  "kernelspec": {
   "display_name": "Python 3",
   "language": "python",
   "name": "python3"
  },
  "language_info": {
   "codemirror_mode": {
    "name": "ipython",
    "version": 3
   },
   "file_extension": ".py",
   "mimetype": "text/x-python",
   "name": "python",
   "nbconvert_exporter": "python",
   "pygments_lexer": "ipython3",
   "version": "3.7.4"
  }
 },
 "nbformat": 4,
 "nbformat_minor": 2
}
