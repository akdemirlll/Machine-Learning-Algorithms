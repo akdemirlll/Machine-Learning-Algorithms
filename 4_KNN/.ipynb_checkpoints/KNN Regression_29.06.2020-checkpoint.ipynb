{
 "cells": [
  {
   "cell_type": "code",
   "execution_count": 1,
   "metadata": {},
   "outputs": [],
   "source": [
    "import numpy as np\n",
    "import pandas as pd\n",
    "import matplotlib.pyplot as plt\n",
    "from sklearn.neighbors import KNeighborsRegressor\n",
    "from sklearn.linear_model import LinearRegression\n",
    "from sklearn.datasets import make_regression\n",
    "import pickle\n",
    "import os"
   ]
  },
  {
   "cell_type": "markdown",
   "metadata": {},
   "source": [
    "##### KNN classs-reg beklentileri\n",
    "- `fit`\n",
    "- `predict`, birden fazla nokta için tahmin etme\n",
    "- `score`\n",
    "- `predict_proba`\n",
    "- `getparams`"
   ]
  },
  {
   "cell_type": "markdown",
   "metadata": {},
   "source": [
    "### KNN Regressor"
   ]
  },
  {
   "cell_type": "code",
   "execution_count": 2,
   "metadata": {},
   "outputs": [],
   "source": [
    "class KNN:\n",
    "    def __init__ (self, k, p, weight = \"uniform\"):\n",
    "        self.k = k\n",
    "        self.p = p\n",
    "        self.weight = weight\n",
    "\n",
    "        \n",
    "    def fit(self, X, y):\n",
    "        self.X = X\n",
    "        self.y = y\n",
    "        \n",
    "    def predict(self, X_test):\n",
    "        \n",
    "        X1 = self.X.reshape(*self.X.shape, 1)\n",
    "        X_test1 = X_test.T.reshape(1, X_test.shape[1],X_test.shape[0])\n",
    "        \n",
    "        distance = ((np.abs(X_test1 - X1))**self.p).sum(axis=1)**(1/self.p)\n",
    "#         sıra_no = np.argpartition(distance, self.k, axis= 0)[:self.k, :]\n",
    "        sıra_no = np.argsort(distance, axis= 0)\n",
    "        \n",
    "        if self.weight == \"uniform\":\n",
    "            return self.y[sıra_no][:self.k, :].mean(axis=0)\n",
    "        \n",
    "        elif self.weight == \"distance\":\n",
    "            d2 = distance.copy()\n",
    "            d2.sort(axis=0)\n",
    "            return (1 /d2[:self.k] * self.y[sıra_no][:self.k, :]).sum(axis=0) / (1/ d2[:self.k]).sum(axis=0)\n",
    "        \n",
    "        else:\n",
    "            raise ValueError(\"Geçersiz ağırlık seçimi\")\n",
    "            \n",
    "    def score(self, X, y):\n",
    "        y_pred = self.predict(X)\n",
    "        sum_of_squared_residuals = ((y_pred - y)**2).sum()\n",
    "        sum_of_squared_error_from_mean = ((y - y.mean())**2).sum()\n",
    "        \n",
    "        return 1 - (sum_of_squared_residuals / sum_of_squared_error_from_mean)\n",
    "        "
   ]
  },
  {
   "cell_type": "code",
   "execution_count": 3,
   "metadata": {},
   "outputs": [
    {
     "name": "stdout",
     "output_type": "stream",
     "text": [
      "772 ms ± 62.7 ms per loop (mean ± std. dev. of 7 runs, 1 loop each)\n"
     ]
    }
   ],
   "source": [
    "%%timeit\n",
    "X, y = make_regression(n_samples=1599, n_features=8, random_state=42)\n",
    "model = KNN(4,2, weight=\"uniform\")\n",
    "model.fit(X, y)\n",
    "score = model.score(X, y)"
   ]
  },
  {
   "cell_type": "code",
   "execution_count": 4,
   "metadata": {},
   "outputs": [
    {
     "name": "stdout",
     "output_type": "stream",
     "text": [
      "Custom model score: 0.9095368301637279\n",
      "Sklearn KNN score: 0.9095368301637279\n",
      "Wall time: 890 ms\n"
     ]
    }
   ],
   "source": [
    "%%time\n",
    "X, y = make_regression(n_samples=1599, n_features=8, random_state=42)\n",
    "model = KNN(4,2, weight=\"uniform\")\n",
    "model.fit(X, y)\n",
    "score = model.score(X, y)\n",
    "sk_knn_score = KNeighborsRegressor(n_neighbors=4, p=2).fit(X, y).score(X, y)\n",
    "print('Custom model score:', score)\n",
    "print('Sklearn KNN score:', sk_knn_score)\n",
    "assert np.abs(score - sk_knn_score) <= 1e-5, \"Custom KNN yielded a different score.\""
   ]
  },
  {
   "cell_type": "markdown",
   "metadata": {},
   "source": [
    "## Drawbacks of KNN"
   ]
  },
  {
   "cell_type": "markdown",
   "metadata": {},
   "source": [
    "### 1. Not memory efficient.\n",
    "\n",
    "KNN algorithm requires a copy of the training dataset for making predictions."
   ]
  },
  {
   "cell_type": "code",
   "execution_count": 22,
   "metadata": {},
   "outputs": [
    {
     "name": "stdout",
     "output_type": "stream",
     "text": [
      "total 51M\n",
      "-rw-r--r-- 1 pc 197121 36K Haz 27 15:51 KNN Regression_Apo 27.06.2020.ipynb\n",
      "-rw-r--r-- 1 pc 197121 25K Haz 29 05:40 KNN Regression 27.06.2020.ipynb\n",
      "-rw-r--r-- 1 pc 197121 17M Haz 29 05:50 KNN_trained_model.pk\n",
      "-rw-r--r-- 1 pc 197121 819 Haz 29 05:50 KNN_vs_liner_trained_model.pk\n",
      "-rw-r--r-- 1 pc 197121 71K Haz 29 05:58 KNN Regression_Å�Ã¼krÃ¼ 29.06.2020.ipynb\n",
      "-rw-r--r-- 1 pc 197121 34M Haz 29 06:01 KNN_training_data.csv\n"
     ]
    }
   ],
   "source": [
    "X, y = make_regression(n_samples=90000, n_features=20)\n",
    "pd.DataFrame(X).to_csv('KNN_training_data.csv', index=False)\n",
    "!ls -ltrh"
   ]
  },
  {
   "cell_type": "code",
   "execution_count": 23,
   "metadata": {},
   "outputs": [
    {
     "name": "stdout",
     "output_type": "stream",
     "text": [
      "total 51M\n",
      "-rw-r--r-- 1 pc 197121 36K Haz 27 15:51 KNN Regression_Apo 27.06.2020.ipynb\n",
      "-rw-r--r-- 1 pc 197121 25K Haz 29 05:40 KNN Regression 27.06.2020.ipynb\n",
      "-rw-r--r-- 1 pc 197121 819 Haz 29 05:50 KNN_vs_liner_trained_model.pk\n",
      "-rw-r--r-- 1 pc 197121 34M Haz 29 06:01 KNN_training_data.csv\n",
      "-rw-r--r-- 1 pc 197121 71K Haz 29 06:02 KNN Regression_Å�Ã¼krÃ¼ 29.06.2020.ipynb\n",
      "-rw-r--r-- 1 pc 197121 17M Haz 29 06:02 KNN_trained_model.pk\n"
     ]
    }
   ],
   "source": [
    "model = KNeighborsRegressor(algorithm=\"kd_tree\").fit(X, y)\n",
    "pickle.dump(model, open('KNN_trained_model.pk', 'wb'))\n",
    "!ls -ltrh"
   ]
  },
  {
   "cell_type": "code",
   "execution_count": 7,
   "metadata": {},
   "outputs": [
    {
     "name": "stdout",
     "output_type": "stream",
     "text": [
      "total 51M\n",
      "-rw-r--r-- 1 pc 197121 36K Haz 27 15:51 KNN Regression_Apo 27.06.2020.ipynb\n",
      "-rw-r--r-- 1 pc 197121 25K Haz 29 05:40 KNN Regression 27.06.2020.ipynb\n",
      "-rw-r--r-- 1 pc 197121 17K Haz 29 05:48 KNN Regression_Å�Ã¼krÃ¼ 29.06.2020.ipynb\n",
      "-rw-r--r-- 1 pc 197121 34M Haz 29 05:50 KNN_training_data.csv\n",
      "-rw-r--r-- 1 pc 197121 17M Haz 29 05:50 KNN_trained_model.pk\n",
      "-rw-r--r-- 1 pc 197121 819 Haz 29 05:50 KNN_vs_liner_trained_model.pk\n"
     ]
    }
   ],
   "source": [
    "model = LinearRegression().fit(X, y)\n",
    "pickle.dump(model, open('KNN_vs_liner_trained_model.pk', 'wb'))\n",
    "!ls -ltrh"
   ]
  },
  {
   "cell_type": "markdown",
   "metadata": {},
   "source": [
    "### 2. Long prediction time"
   ]
  },
  {
   "cell_type": "code",
   "execution_count": 24,
   "metadata": {},
   "outputs": [],
   "source": [
    "X, y = make_regression(n_samples=9000, n_features=20)"
   ]
  },
  {
   "cell_type": "code",
   "execution_count": 29,
   "metadata": {},
   "outputs": [
    {
     "name": "stdout",
     "output_type": "stream",
     "text": [
      "Wall time: 61 ms\n"
     ]
    },
    {
     "data": {
      "text/plain": [
       "KNeighborsRegressor(algorithm='ball_tree', leaf_size=30, metric='minkowski',\n",
       "                    metric_params=None, n_jobs=None, n_neighbors=3, p=2,\n",
       "                    weights='uniform')"
      ]
     },
     "execution_count": 29,
     "metadata": {},
     "output_type": "execute_result"
    }
   ],
   "source": [
    "%%time\n",
    "KNeighborsRegressor(n_neighbors=3,algorithm=\"ball_tree\").fit(X, y) # algorithm= \"kd_tree,brute\""
   ]
  },
  {
   "cell_type": "code",
   "execution_count": 30,
   "metadata": {},
   "outputs": [
    {
     "name": "stdout",
     "output_type": "stream",
     "text": [
      "Wall time: 5.55 s\n"
     ]
    },
    {
     "data": {
      "text/plain": [
       "array([  -4.57248486,   44.16151272, -188.9775866 , ...,  103.7739963 ,\n",
       "        217.70547572,    5.17859746])"
      ]
     },
     "execution_count": 30,
     "metadata": {},
     "output_type": "execute_result"
    }
   ],
   "source": [
    "%%time\n",
    "KNeighborsRegressor(n_neighbors=3).fit(X, y).predict(X) # predict çok uzun sürüyor."
   ]
  },
  {
   "cell_type": "code",
   "execution_count": 31,
   "metadata": {},
   "outputs": [
    {
     "name": "stdout",
     "output_type": "stream",
     "text": [
      "8.03 ms ± 55.6 µs per loop (mean ± std. dev. of 7 runs, 100 loops each)\n"
     ]
    }
   ],
   "source": [
    "%%timeit\n",
    "LinearRegression().fit(X, y).predict(X)"
   ]
  },
  {
   "cell_type": "markdown",
   "metadata": {},
   "source": [
    "### 3. Curse of Dimensionality\n",
    "\n",
    "KNN is heavily affected from the fact that as the dimensionality of the dataset increase, more data is required to cover the same percentage of space."
   ]
  },
  {
   "cell_type": "code",
   "execution_count": 11,
   "metadata": {},
   "outputs": [],
   "source": [
    "from sklearn.model_selection import train_test_split"
   ]
  },
  {
   "cell_type": "code",
   "execution_count": 12,
   "metadata": {},
   "outputs": [
    {
     "data": {
      "image/png": "[encoded data removed]",
      "text/plain": [
       "<Figure size 432x288 with 1 Axes>"
      ]
     },
     "metadata": {
      "needs_background": "light"
     },
     "output_type": "display_data"
    }
   ],
   "source": [
    "train_scores = []\n",
    "test_scores = []\n",
    "\n",
    "num_features = range(4, 25)\n",
    "for d in num_features:\n",
    "    this_train = []\n",
    "    this_test = []\n",
    "    for i in range(10):\n",
    "        X, y = make_regression(n_samples=2000, n_features=d)\n",
    "        X_train, X_test, y_train, y_test = train_test_split(X, y, test_size=0.2)\n",
    "        model = KNeighborsRegressor(n_neighbors=13)\n",
    "        model.fit(X_train, y_train)\n",
    "        this_train.append(model.score(X_train, y_train))\n",
    "        this_test.append(model.score(X_test, y_test))\n",
    "    train_scores.append(np.mean(this_train))\n",
    "    test_scores.append(np.mean(this_test))\n",
    "    \n",
    "plt.plot(num_features, train_scores, label='train scores', color='blue')\n",
    "plt.plot(num_features, test_scores, label='test scores', color='red')\n",
    "plt.title('Curse of Dimensionality for KNN')\n",
    "plt.xlabel('Number of dimesions')\n",
    "plt.ylabel('$R^2 Score$')\n",
    "_ = plt.legend()"
   ]
  },
  {
   "cell_type": "code",
   "execution_count": 13,
   "metadata": {},
   "outputs": [
    {
     "data": {
      "text/plain": [
       "<matplotlib.legend.Legend at 0x22aca6eccc8>"
      ]
     },
     "execution_count": 13,
     "metadata": {},
     "output_type": "execute_result"
    },
    {
     "data": {
      "image/png": "[encoded data removed]",
      "text/plain": [
       "<Figure size 432x288 with 1 Axes>"
      ]
     },
     "metadata": {
      "needs_background": "light"
     },
     "output_type": "display_data"
    }
   ],
   "source": [
    "train_scores = []\n",
    "test_scores = []\n",
    "\n",
    "num_features = range(4, 25)\n",
    "for d in num_features:\n",
    "    this_train = []\n",
    "    this_test = []\n",
    "    for i in range(10):\n",
    "        X, y = make_regression(n_samples=2000, n_features=d, noise=4.0)\n",
    "        X_train, X_test, y_train, y_test = train_test_split(X, y, test_size=0.2)\n",
    "        model = LinearRegression()\n",
    "        model.fit(X_train, y_train)\n",
    "        this_train.append(model.score(X_train, y_train))\n",
    "        this_test.append(model.score(X_test, y_test))\n",
    "    train_scores.append(np.mean(this_train))\n",
    "    test_scores.append(np.mean(this_test))\n",
    "    \n",
    "plt.plot(num_features, train_scores, label='train scores', color='blue')\n",
    "plt.plot(num_features, test_scores, label='test scores', color='red')\n",
    "plt.title('Linear Regression Scores vs Dimensionality')\n",
    "plt.xlabel('Number of dimensions')\n",
    "plt.ylabel('$R^2 Score$')\n",
    "plt.legend()"
   ]
  },
  {
   "cell_type": "code",
   "execution_count": null,
   "metadata": {},
   "outputs": [],
   "source": []
  },
  {
   "cell_type": "code",
   "execution_count": null,
   "metadata": {},
   "outputs": [],
   "source": []
  },
  {
   "cell_type": "code",
   "execution_count": null,
   "metadata": {},
   "outputs": [],
   "source": []
  },
  {
   "cell_type": "code",
   "execution_count": null,
   "metadata": {},
   "outputs": [],
   "source": []
  },
  {
   "cell_type": "code",
   "execution_count": 14,
   "metadata": {},
   "outputs": [
    {
     "ename": "ValueError",
     "evalue": "Found input variables with inconsistent numbers of samples: [2000, 1600]",
     "output_type": "error",
     "traceback": [
      "\u001b[1;31m---------------------------------------------------------------------------\u001b[0m",
      "\u001b[1;31mValueError\u001b[0m                                Traceback (most recent call last)",
      "\u001b[1;32m<timed exec>\u001b[0m in \u001b[0;36m<module>\u001b[1;34m\u001b[0m\n",
      "\u001b[1;32m~\\AppData\\Local\\Programs\\Python\\Python37\\lib\\site-packages\\sklearn\\neighbors\\_base.py\u001b[0m in \u001b[0;36mfit\u001b[1;34m(self, X, y)\u001b[0m\n\u001b[0;32m   1108\u001b[0m         \"\"\"\n\u001b[0;32m   1109\u001b[0m         \u001b[1;32mif\u001b[0m \u001b[1;32mnot\u001b[0m \u001b[0misinstance\u001b[0m\u001b[1;33m(\u001b[0m\u001b[0mX\u001b[0m\u001b[1;33m,\u001b[0m \u001b[1;33m(\u001b[0m\u001b[0mKDTree\u001b[0m\u001b[1;33m,\u001b[0m \u001b[0mBallTree\u001b[0m\u001b[1;33m)\u001b[0m\u001b[1;33m)\u001b[0m\u001b[1;33m:\u001b[0m\u001b[1;33m\u001b[0m\u001b[1;33m\u001b[0m\u001b[0m\n\u001b[1;32m-> 1110\u001b[1;33m             \u001b[0mX\u001b[0m\u001b[1;33m,\u001b[0m \u001b[0my\u001b[0m \u001b[1;33m=\u001b[0m \u001b[0mcheck_X_y\u001b[0m\u001b[1;33m(\u001b[0m\u001b[0mX\u001b[0m\u001b[1;33m,\u001b[0m \u001b[0my\u001b[0m\u001b[1;33m,\u001b[0m \u001b[1;34m\"csr\"\u001b[0m\u001b[1;33m,\u001b[0m \u001b[0mmulti_output\u001b[0m\u001b[1;33m=\u001b[0m\u001b[1;32mTrue\u001b[0m\u001b[1;33m)\u001b[0m\u001b[1;33m\u001b[0m\u001b[1;33m\u001b[0m\u001b[0m\n\u001b[0m\u001b[0;32m   1111\u001b[0m         \u001b[0mself\u001b[0m\u001b[1;33m.\u001b[0m\u001b[0m_y\u001b[0m \u001b[1;33m=\u001b[0m \u001b[0my\u001b[0m\u001b[1;33m\u001b[0m\u001b[1;33m\u001b[0m\u001b[0m\n\u001b[0;32m   1112\u001b[0m         \u001b[1;32mreturn\u001b[0m \u001b[0mself\u001b[0m\u001b[1;33m.\u001b[0m\u001b[0m_fit\u001b[0m\u001b[1;33m(\u001b[0m\u001b[0mX\u001b[0m\u001b[1;33m)\u001b[0m\u001b[1;33m\u001b[0m\u001b[1;33m\u001b[0m\u001b[0m\n",
      "\u001b[1;32m~\\AppData\\Local\\Programs\\Python\\Python37\\lib\\site-packages\\sklearn\\utils\\validation.py\u001b[0m in \u001b[0;36mcheck_X_y\u001b[1;34m(X, y, accept_sparse, accept_large_sparse, dtype, order, copy, force_all_finite, ensure_2d, allow_nd, multi_output, ensure_min_samples, ensure_min_features, y_numeric, warn_on_dtype, estimator)\u001b[0m\n\u001b[0;32m    763\u001b[0m         \u001b[0my\u001b[0m \u001b[1;33m=\u001b[0m \u001b[0my\u001b[0m\u001b[1;33m.\u001b[0m\u001b[0mastype\u001b[0m\u001b[1;33m(\u001b[0m\u001b[0mnp\u001b[0m\u001b[1;33m.\u001b[0m\u001b[0mfloat64\u001b[0m\u001b[1;33m)\u001b[0m\u001b[1;33m\u001b[0m\u001b[1;33m\u001b[0m\u001b[0m\n\u001b[0;32m    764\u001b[0m \u001b[1;33m\u001b[0m\u001b[0m\n\u001b[1;32m--> 765\u001b[1;33m     \u001b[0mcheck_consistent_length\u001b[0m\u001b[1;33m(\u001b[0m\u001b[0mX\u001b[0m\u001b[1;33m,\u001b[0m \u001b[0my\u001b[0m\u001b[1;33m)\u001b[0m\u001b[1;33m\u001b[0m\u001b[1;33m\u001b[0m\u001b[0m\n\u001b[0m\u001b[0;32m    766\u001b[0m \u001b[1;33m\u001b[0m\u001b[0m\n\u001b[0;32m    767\u001b[0m     \u001b[1;32mreturn\u001b[0m \u001b[0mX\u001b[0m\u001b[1;33m,\u001b[0m \u001b[0my\u001b[0m\u001b[1;33m\u001b[0m\u001b[1;33m\u001b[0m\u001b[0m\n",
      "\u001b[1;32m~\\AppData\\Local\\Programs\\Python\\Python37\\lib\\site-packages\\sklearn\\utils\\validation.py\u001b[0m in \u001b[0;36mcheck_consistent_length\u001b[1;34m(*arrays)\u001b[0m\n\u001b[0;32m    210\u001b[0m     \u001b[1;32mif\u001b[0m \u001b[0mlen\u001b[0m\u001b[1;33m(\u001b[0m\u001b[0muniques\u001b[0m\u001b[1;33m)\u001b[0m \u001b[1;33m>\u001b[0m \u001b[1;36m1\u001b[0m\u001b[1;33m:\u001b[0m\u001b[1;33m\u001b[0m\u001b[1;33m\u001b[0m\u001b[0m\n\u001b[0;32m    211\u001b[0m         raise ValueError(\"Found input variables with inconsistent numbers of\"\n\u001b[1;32m--> 212\u001b[1;33m                          \" samples: %r\" % [int(l) for l in lengths])\n\u001b[0m\u001b[0;32m    213\u001b[0m \u001b[1;33m\u001b[0m\u001b[0m\n\u001b[0;32m    214\u001b[0m \u001b[1;33m\u001b[0m\u001b[0m\n",
      "\u001b[1;31mValueError\u001b[0m: Found input variables with inconsistent numbers of samples: [2000, 1600]"
     ]
    }
   ],
   "source": [
    "%%time\n",
    "model2 = KNeighborsRegressor(n_neighbors=4,weights=\"distance\", algorithm = 'brute' )\n",
    "# model1 = KNN(4,2, weight=\"distance\")\n",
    "model2.fit(X, y_train)\n",
    "model2.predict(X)"
   ]
  },
  {
   "cell_type": "code",
   "execution_count": null,
   "metadata": {},
   "outputs": [],
   "source": []
  },
  {
   "cell_type": "code",
   "execution_count": 15,
   "metadata": {},
   "outputs": [],
   "source": [
    "a = np.array([[1,2,3]]).reshape(3,1)"
   ]
  },
  {
   "cell_type": "code",
   "execution_count": 16,
   "metadata": {},
   "outputs": [
    {
     "data": {
      "text/plain": [
       "array([[1],\n",
       "       [2],\n",
       "       [3]])"
      ]
     },
     "execution_count": 16,
     "metadata": {},
     "output_type": "execute_result"
    }
   ],
   "source": [
    "a"
   ]
  },
  {
   "cell_type": "code",
   "execution_count": 17,
   "metadata": {},
   "outputs": [],
   "source": [
    "b = np.array([[2,4,6]]).reshape(1,3)"
   ]
  },
  {
   "cell_type": "code",
   "execution_count": 18,
   "metadata": {},
   "outputs": [
    {
     "data": {
      "text/plain": [
       "array([[-1, -3, -5],\n",
       "       [ 0, -2, -4],\n",
       "       [ 1, -1, -3]])"
      ]
     },
     "execution_count": 18,
     "metadata": {},
     "output_type": "execute_result"
    }
   ],
   "source": [
    "a-b"
   ]
  },
  {
   "cell_type": "code",
   "execution_count": 19,
   "metadata": {},
   "outputs": [
    {
     "data": {
      "text/plain": [
       "array([[ 2,  4,  6],\n",
       "       [ 4,  8, 12],\n",
       "       [ 6, 12, 18]])"
      ]
     },
     "execution_count": 19,
     "metadata": {},
     "output_type": "execute_result"
    }
   ],
   "source": [
    "a@b"
   ]
  },
  {
   "cell_type": "code",
   "execution_count": 20,
   "metadata": {},
   "outputs": [
    {
     "data": {
      "text/plain": [
       "array([[ 2,  4,  6],\n",
       "       [ 4,  8, 12],\n",
       "       [ 6, 12, 18]])"
      ]
     },
     "execution_count": 20,
     "metadata": {},
     "output_type": "execute_result"
    }
   ],
   "source": [
    "a*b"
   ]
  },
  {
   "cell_type": "code",
   "execution_count": 21,
   "metadata": {},
   "outputs": [
    {
     "ename": "ValueError",
     "evalue": "cannot reshape array of size 3 into shape (9,2)",
     "output_type": "error",
     "traceback": [
      "\u001b[1;31m---------------------------------------------------------------------------\u001b[0m",
      "\u001b[1;31mValueError\u001b[0m                                Traceback (most recent call last)",
      "\u001b[1;32m<ipython-input-21-9dc8e88e313a>\u001b[0m in \u001b[0;36m<module>\u001b[1;34m\u001b[0m\n\u001b[1;32m----> 1\u001b[1;33m \u001b[0mnp\u001b[0m\u001b[1;33m.\u001b[0m\u001b[0marray\u001b[0m\u001b[1;33m(\u001b[0m\u001b[1;33m[\u001b[0m\u001b[1;33m[\u001b[0m\u001b[1;36m2\u001b[0m\u001b[1;33m,\u001b[0m\u001b[1;36m4\u001b[0m\u001b[1;33m,\u001b[0m\u001b[1;36m6\u001b[0m\u001b[1;33m]\u001b[0m\u001b[1;33m]\u001b[0m\u001b[1;33m)\u001b[0m\u001b[1;33m.\u001b[0m\u001b[0mreshape\u001b[0m\u001b[1;33m(\u001b[0m\u001b[1;36m9\u001b[0m\u001b[1;33m,\u001b[0m\u001b[1;36m2\u001b[0m\u001b[1;33m)\u001b[0m\u001b[1;33m\u001b[0m\u001b[1;33m\u001b[0m\u001b[0m\n\u001b[0m",
      "\u001b[1;31mValueError\u001b[0m: cannot reshape array of size 3 into shape (9,2)"
     ]
    }
   ],
   "source": [
    "np.array([[2,4,6]]).reshape(9,2)"
   ]
  },
  {
   "cell_type": "code",
   "execution_count": null,
   "metadata": {},
   "outputs": [],
   "source": [
    "X = np.random.randn(9,2)\n",
    "X1 = X.reshape(9,2,1)\n",
    "X_test = np.random.randn(4,2)\n",
    "X_test1= X_test.T.reshape(1,2,4)\n",
    "y_train = np.random.randn(9)"
   ]
  },
  {
   "cell_type": "code",
   "execution_count": null,
   "metadata": {},
   "outputs": [],
   "source": [
    "(X_test1 - X1).shape"
   ]
  },
  {
   "cell_type": "code",
   "execution_count": null,
   "metadata": {},
   "outputs": [],
   "source": [
    "p=1\n",
    "distance = ((np.abs(X_test1 - X1))**p).sum(axis=1)**(1/p)\n",
    "pd.DataFrame(distance)"
   ]
  },
  {
   "cell_type": "code",
   "execution_count": null,
   "metadata": {},
   "outputs": [],
   "source": [
    "X_test[2] - X[4]"
   ]
  },
  {
   "cell_type": "code",
   "execution_count": null,
   "metadata": {},
   "outputs": [],
   "source": [
    "X_df = pd.DataFrame(X)\n",
    "X_df[\"y_train\"] = y_train"
   ]
  },
  {
   "cell_type": "code",
   "execution_count": null,
   "metadata": {},
   "outputs": [],
   "source": [
    "X_df"
   ]
  },
  {
   "cell_type": "code",
   "execution_count": null,
   "metadata": {},
   "outputs": [],
   "source": [
    "k=3\n",
    "sıra_no = np.argsort(distance, axis= 0)\n",
    "y_train[sıra_no][:k, :].mean(axis=0)"
   ]
  },
  {
   "cell_type": "code",
   "execution_count": null,
   "metadata": {},
   "outputs": [],
   "source": [
    "d2 = distance.copy()\n",
    "d2.sort(axis=0)\n",
    "(1 /d2[:k] * y_train[sıra_no][:k, :]).sum(axis=0) / (1/ d2[:k]).sum(axis=0)"
   ]
  },
  {
   "cell_type": "markdown",
   "metadata": {},
   "source": [
    "#### Sağlaması"
   ]
  },
  {
   "cell_type": "code",
   "execution_count": null,
   "metadata": {},
   "outputs": [],
   "source": [
    "model=KNeighborsRegressor(n_neighbors=3, p=1, weights=\"distance\")\n",
    "model.fit(X, y_train)\n",
    "model.predict(X_test)"
   ]
  },
  {
   "cell_type": "code",
   "execution_count": null,
   "metadata": {},
   "outputs": [],
   "source": [
    "sıra_no"
   ]
  },
  {
   "cell_type": "code",
   "execution_count": null,
   "metadata": {},
   "outputs": [],
   "source": [
    " np.argsort(distance, axis= 0)"
   ]
  },
  {
   "cell_type": "code",
   "execution_count": null,
   "metadata": {},
   "outputs": [],
   "source": [
    "for i in X_test:\n",
    "    "
   ]
  }
 ],
 "metadata": {
  "kernelspec": {
   "display_name": "Python 3",
   "language": "python",
   "name": "python3"
  },
  "language_info": {
   "codemirror_mode": {
    "name": "ipython",
    "version": 3
   },
   "file_extension": ".py",
   "mimetype": "text/x-python",
   "name": "python",
   "nbconvert_exporter": "python",
   "pygments_lexer": "ipython3",
   "version": "3.7.4"
  }
 },
 "nbformat": 4,
 "nbformat_minor": 2
}
