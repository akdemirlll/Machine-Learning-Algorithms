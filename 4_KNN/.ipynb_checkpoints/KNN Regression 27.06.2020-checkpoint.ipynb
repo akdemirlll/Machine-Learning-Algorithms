{
 "cells": [
  {
   "cell_type": "code",
   "execution_count": 5,
   "metadata": {},
   "outputs": [],
   "source": [
    "import numpy as np\n",
    "import pandas as pd\n",
    "import matplotlib.pyplot as plt\n",
    "from sklearn.neighbors import KNeighborsRegressor"
   ]
  },
  {
   "cell_type": "markdown",
   "metadata": {},
   "source": [
    "# KNN Regressor"
   ]
  },
  {
   "cell_type": "code",
   "execution_count": 36,
   "metadata": {},
   "outputs": [],
   "source": [
    "class KNN:\n",
    "    def __init__(self, k, p, weight=\"uniform\"):\n",
    "        self.k = k\n",
    "        self.p = p\n",
    "        self.weight = weight\n",
    "        \n",
    "        \n",
    "    def fit(self, X, y):\n",
    "        self.X = X\n",
    "        self.y = y\n",
    "    \n",
    "    def predict(self, X_test):\n",
    "        X1 = self.X.reshape(*self.X.shape,1)\n",
    "        X_test1 = X_test.T.reshape(1,X_test.shape[1],X_test.shape[0])\n",
    "        distance = ((np.abs(X_test1 - X1))**self.p).sum(axis=1)**(1/self.p)\n",
    "        sıra_no = np.argsort(distance, axis=0)\n",
    "        \n",
    "        if self.weight == \"uniform\":\n",
    "            return self.y[sıra_no][:self.k,:].mean(axis=0)  \n",
    "\n",
    "        elif self.weight == \"distance\":\n",
    "            d2 = distance.copy()\n",
    "            d2.sort(axis=0)\n",
    "            return (1/d2[:self.k,:] * self.y[sıra_no][:self.k,:]).sum(axis=0) / (1/d2[:self.k,:]).sum(axis=0) # ağırlıklara göre\n",
    "            \n",
    "        else:\n",
    "            raise ValueError(\"Geçersiz ağırlık seçimi\")"
   ]
  },
  {
   "cell_type": "code",
   "execution_count": 33,
   "metadata": {},
   "outputs": [
    {
     "data": {
      "text/plain": [
       "array([ 0.14164375,  0.32495674,  0.4133476 , -0.3815586 ])"
      ]
     },
     "execution_count": 33,
     "metadata": {},
     "output_type": "execute_result"
    }
   ],
   "source": [
    "model1 = KNN(3,1)\n",
    "model1.fit(X, y_train)\n",
    "model1.predict(X_test) # aşağıdaki elle çözüme ulaşmış olduk"
   ]
  },
  {
   "cell_type": "code",
   "execution_count": null,
   "metadata": {},
   "outputs": [],
   "source": []
  },
  {
   "cell_type": "code",
   "execution_count": 34,
   "metadata": {},
   "outputs": [
    {
     "data": {
      "text/plain": [
       "array([-0.12817393,  0.29421101,  0.35976981, -0.4116225 ])"
      ]
     },
     "execution_count": 34,
     "metadata": {},
     "output_type": "execute_result"
    }
   ],
   "source": [
    "model2 = KNN(3,1,weight=\"distance\")\n",
    "model2.fit(X, y_train)\n",
    "model2.predict(X_test) # aşağıdaki elle çözüme ulaşmış olduk"
   ]
  },
  {
   "cell_type": "code",
   "execution_count": null,
   "metadata": {},
   "outputs": [],
   "source": []
  },
  {
   "cell_type": "markdown",
   "metadata": {},
   "source": [
    "# Example"
   ]
  },
  {
   "cell_type": "code",
   "execution_count": 35,
   "metadata": {
    "scrolled": false
   },
   "outputs": [
    {
     "ename": "SyntaxError",
     "evalue": "invalid syntax (<unknown>, line 3)",
     "output_type": "error",
     "traceback": [
      "Traceback \u001b[1;36m(most recent call last)\u001b[0m:\n",
      "  File \u001b[0;32m\"C:\\Users\\pc\\AppData\\Local\\Programs\\Python\\Python37\\lib\\site-packages\\IPython\\core\\interactiveshell.py\"\u001b[0m, line \u001b[0;32m3319\u001b[0m, in \u001b[0;35mrun_code\u001b[0m\n    exec(code_obj, self.user_global_ns, self.user_ns)\n",
      "  File \u001b[0;32m\"<ipython-input-35-2ec4de5488d6>\"\u001b[0m, line \u001b[0;32m1\u001b[0m, in \u001b[0;35m<module>\u001b[0m\n    get_ipython().run_cell_magic('time', '', 'X2 = np.random.randn(900,15)\\ny2 = np.random.randn(900 = KNN(4,2,weight=\"distance\")\\nmodel1.fit(X2, y2)\\n_= model1.predict(X2)\\n')\n",
      "  File \u001b[0;32m\"C:\\Users\\pc\\AppData\\Local\\Programs\\Python\\Python37\\lib\\site-packages\\IPython\\core\\interactiveshell.py\"\u001b[0m, line \u001b[0;32m2352\u001b[0m, in \u001b[0;35mrun_cell_magic\u001b[0m\n    result = fn(*args, **kwargs)\n",
      "  File \u001b[0;32m\"<C:\\Users\\pc\\AppData\\Local\\Programs\\Python\\Python37\\lib\\site-packages\\decorator.py:decorator-gen-62>\"\u001b[0m, line \u001b[0;32m2\u001b[0m, in \u001b[0;35mtime\u001b[0m\n",
      "  File \u001b[0;32m\"C:\\Users\\pc\\AppData\\Local\\Programs\\Python\\Python37\\lib\\site-packages\\IPython\\core\\magic.py\"\u001b[0m, line \u001b[0;32m187\u001b[0m, in \u001b[0;35m<lambda>\u001b[0m\n    call = lambda f, *a, **k: f(*a, **k)\n",
      "  File \u001b[0;32m\"C:\\Users\\pc\\AppData\\Local\\Programs\\Python\\Python37\\lib\\site-packages\\IPython\\core\\magics\\execution.py\"\u001b[0m, line \u001b[0;32m1268\u001b[0m, in \u001b[0;35mtime\u001b[0m\n    expr_ast = self.shell.compile.ast_parse(expr)\n",
      "\u001b[1;36m  File \u001b[1;32m\"C:\\Users\\pc\\AppData\\Local\\Programs\\Python\\Python37\\lib\\site-packages\\IPython\\core\\compilerop.py\"\u001b[1;36m, line \u001b[1;32m101\u001b[1;36m, in \u001b[1;35mast_parse\u001b[1;36m\u001b[0m\n\u001b[1;33m    return compile(source, filename, symbol, self.flags | PyCF_ONLY_AST, 1)\u001b[0m\n",
      "\u001b[1;36m  File \u001b[1;32m\"<unknown>\"\u001b[1;36m, line \u001b[1;32m3\u001b[0m\n\u001b[1;33m    model1.fit(X2, y2)\u001b[0m\n\u001b[1;37m         ^\u001b[0m\n\u001b[1;31mSyntaxError\u001b[0m\u001b[1;31m:\u001b[0m invalid syntax\n"
     ]
    }
   ],
   "source": [
    "%%time\n",
    "X2 = np.random.randn(900,15)\n",
    "y2 = np.random.randn(900 = KNN(4,2,weight=\"distance\")\n",
    "model1.fit(X2, y2)\n",
    "_= model1.predict(X2)"
   ]
  },
  {
   "cell_type": "code",
   "execution_count": null,
   "metadata": {},
   "outputs": [],
   "source": [
    "%%time\n",
    "model3 = KNeighborsRegressor(n_neighbors=4,weights=\"distance\",algorithm=\"brute\")\n",
    "model3.fit(X2, y2)\n",
    "_= model3.predict(X2)"
   ]
  },
  {
   "cell_type": "code",
   "execution_count": null,
   "metadata": {},
   "outputs": [],
   "source": []
  },
  {
   "cell_type": "code",
   "execution_count": null,
   "metadata": {},
   "outputs": [],
   "source": []
  },
  {
   "cell_type": "code",
   "execution_count": null,
   "metadata": {},
   "outputs": [],
   "source": []
  },
  {
   "cell_type": "markdown",
   "metadata": {},
   "source": [
    "# matris brodcast metodu"
   ]
  },
  {
   "cell_type": "code",
   "execution_count": 7,
   "metadata": {},
   "outputs": [
    {
     "data": {
      "text/plain": [
       "array([[1],\n",
       "       [2],\n",
       "       [3]])"
      ]
     },
     "execution_count": 7,
     "metadata": {},
     "output_type": "execute_result"
    }
   ],
   "source": [
    "a = np.array([[1,2,3]]).reshape(3,1)\n",
    "a"
   ]
  },
  {
   "cell_type": "code",
   "execution_count": 8,
   "metadata": {},
   "outputs": [
    {
     "data": {
      "text/plain": [
       "array([[2, 4, 6]])"
      ]
     },
     "execution_count": 8,
     "metadata": {},
     "output_type": "execute_result"
    }
   ],
   "source": [
    "b = np.array([[2,4,6]]).reshape(1,3)\n",
    "b"
   ]
  },
  {
   "cell_type": "code",
   "execution_count": 9,
   "metadata": {},
   "outputs": [
    {
     "data": {
      "text/plain": [
       "array([[-1, -3, -5],\n",
       "       [ 0, -2, -4],\n",
       "       [ 1, -1, -3]])"
      ]
     },
     "execution_count": 9,
     "metadata": {},
     "output_type": "execute_result"
    }
   ],
   "source": [
    "a-b"
   ]
  },
  {
   "cell_type": "markdown",
   "metadata": {},
   "source": [
    "# Kenar Çözüm (yukarıya taşıyacağımız şekli)"
   ]
  },
  {
   "cell_type": "code",
   "execution_count": 10,
   "metadata": {},
   "outputs": [],
   "source": [
    "X = np.random.randn(9,2)"
   ]
  },
  {
   "cell_type": "code",
   "execution_count": 11,
   "metadata": {},
   "outputs": [],
   "source": [
    "X_test = np.random.randn(4,2)"
   ]
  },
  {
   "cell_type": "code",
   "execution_count": 12,
   "metadata": {},
   "outputs": [],
   "source": [
    "X1 = X.reshape(9,2,1)"
   ]
  },
  {
   "cell_type": "code",
   "execution_count": 13,
   "metadata": {},
   "outputs": [],
   "source": [
    "X_test1 = X_test.T.reshape(1,2,4)"
   ]
  },
  {
   "cell_type": "code",
   "execution_count": 14,
   "metadata": {},
   "outputs": [],
   "source": [
    "y_train = np.random.randn(9)"
   ]
  },
  {
   "cell_type": "code",
   "execution_count": 15,
   "metadata": {},
   "outputs": [
    {
     "data": {
      "text/plain": [
       "(9, 2, 4)"
      ]
     },
     "execution_count": 15,
     "metadata": {},
     "output_type": "execute_result"
    }
   ],
   "source": [
    "(X_test1 - X1).shape"
   ]
  },
  {
   "cell_type": "code",
   "execution_count": 16,
   "metadata": {},
   "outputs": [
    {
     "data": {
      "text/plain": [
       "array([-2.14048727,  0.75478711])"
      ]
     },
     "execution_count": 16,
     "metadata": {},
     "output_type": "execute_result"
    }
   ],
   "source": [
    "(X_test1 - X1)[4,:,2]"
   ]
  },
  {
   "cell_type": "code",
   "execution_count": 17,
   "metadata": {},
   "outputs": [
    {
     "data": {
      "text/plain": [
       "array([-2.14048727,  0.75478711])"
      ]
     },
     "execution_count": 17,
     "metadata": {},
     "output_type": "execute_result"
    }
   ],
   "source": [
    "X_test[2] - X[4]"
   ]
  },
  {
   "cell_type": "code",
   "execution_count": 18,
   "metadata": {},
   "outputs": [
    {
     "data": {
      "text/plain": [
       "array([[2.63039677, 0.81699737, 2.55113485, 2.09985312],\n",
       "       [2.24864189, 1.07654873, 2.53838501, 1.27647288],\n",
       "       [1.96527614, 0.59389414, 2.09618679, 1.45790535],\n",
       "       [1.1208196 , 1.07965443, 1.60034198, 1.06102347],\n",
       "       [1.78067428, 1.20538862, 2.26966723, 0.77898519],\n",
       "       [1.00014375, 1.76779118, 1.90382541, 0.77585302],\n",
       "       [0.29969117, 1.62376014, 0.98152211, 1.68577245],\n",
       "       [3.69821189, 2.22304948, 3.90328462, 2.43986658],\n",
       "       [1.25063112, 0.72808983, 1.05734346, 1.85719483]])"
      ]
     },
     "execution_count": 18,
     "metadata": {},
     "output_type": "execute_result"
    }
   ],
   "source": [
    "((X_test1 - X1)**2).sum(axis=1)**0.5"
   ]
  },
  {
   "cell_type": "code",
   "execution_count": 19,
   "metadata": {},
   "outputs": [
    {
     "data": {
      "text/plain": [
       "array([[3.67944028, 0.96291702, 3.02353382, 2.4696546 ],\n",
       "       [2.84233958, 1.5172622 , 2.84715773, 1.63255389],\n",
       "       [2.67681939, 0.83895417, 2.16884969, 1.46703371],\n",
       "       [1.41696379, 1.29955947, 2.1314269 , 1.48614227],\n",
       "       [2.04160662, 1.56537885, 2.89527438, 0.83182093],\n",
       "       [1.27116582, 2.09627129, 2.69217962, 0.92538955],\n",
       "       [0.42049539, 2.29602787, 1.36797402, 2.24959516],\n",
       "       [4.65519114, 2.47496765, 3.99928468, 3.44540546],\n",
       "       [1.7277195 , 0.98880376, 1.07181304, 2.57489608]])"
      ]
     },
     "execution_count": 19,
     "metadata": {},
     "output_type": "execute_result"
    }
   ],
   "source": [
    "# minkowski metriği çalıma mantığı\n",
    "# p = 2 öklid mesafesi\n",
    "# p = 1 manhattan mesafesi\n",
    "p = 1 \n",
    "distance = ((np.abs(X_test1 - X1))**p).sum(axis=1)**(1/p)\n",
    "distance"
   ]
  },
  {
   "cell_type": "code",
   "execution_count": 20,
   "metadata": {},
   "outputs": [],
   "source": [
    "sıra_no = np.argsort(distance, axis=0) # index lere göre sıralama yapıyor."
   ]
  },
  {
   "cell_type": "code",
   "execution_count": 21,
   "metadata": {},
   "outputs": [
    {
     "data": {
      "text/plain": [
       "array([[-0.46868298, -0.26435916,  0.66486031, -0.7300654 ],\n",
       "       [-0.15025125,  0.57436907, -0.46868298, -0.15025125],\n",
       "       [ 1.04386547,  0.66486031,  1.04386547, -0.26435916],\n",
       "       [ 0.66486031,  1.04386547, -0.26435916,  1.04386547],\n",
       "       [-0.7300654 , -1.80460881, -0.15025125, -1.80460881],\n",
       "       [-0.26435916, -0.7300654 , -1.80460881, -0.46868298],\n",
       "       [-1.80460881, -0.15025125, -0.7300654 ,  0.57436907],\n",
       "       [ 0.57436907, -0.46868298,  0.57436907,  0.66486031],\n",
       "       [-1.23003569, -1.23003569, -1.23003569, -1.23003569]])"
      ]
     },
     "execution_count": 21,
     "metadata": {},
     "output_type": "execute_result"
    }
   ],
   "source": [
    "y_train[sıra_no]"
   ]
  },
  {
   "cell_type": "code",
   "execution_count": null,
   "metadata": {},
   "outputs": [],
   "source": []
  },
  {
   "cell_type": "code",
   "execution_count": 22,
   "metadata": {},
   "outputs": [],
   "source": [
    "X_df = pd.DataFrame(X)\n",
    "X_df[\"y_train\"] = y_train"
   ]
  },
  {
   "cell_type": "code",
   "execution_count": 23,
   "metadata": {},
   "outputs": [
    {
     "data": {
      "text/html": [
       "<div>\n",
       "<style scoped>\n",
       "    .dataframe tbody tr th:only-of-type {\n",
       "        vertical-align: middle;\n",
       "    }\n",
       "\n",
       "    .dataframe tbody tr th {\n",
       "        vertical-align: top;\n",
       "    }\n",
       "\n",
       "    .dataframe thead th {\n",
       "        text-align: right;\n",
       "    }\n",
       "</style>\n",
       "<table border=\"1\" class=\"dataframe\">\n",
       "  <thead>\n",
       "    <tr style=\"text-align: right;\">\n",
       "      <th></th>\n",
       "      <th>0</th>\n",
       "      <th>1</th>\n",
       "      <th>y_train</th>\n",
       "    </tr>\n",
       "  </thead>\n",
       "  <tbody>\n",
       "    <tr>\n",
       "      <th>0</th>\n",
       "      <td>1.061172</td>\n",
       "      <td>1.194306</td>\n",
       "      <td>0.574369</td>\n",
       "    </tr>\n",
       "    <tr>\n",
       "      <th>1</th>\n",
       "      <td>1.081972</td>\n",
       "      <td>0.336405</td>\n",
       "      <td>-1.804609</td>\n",
       "    </tr>\n",
       "    <tr>\n",
       "      <th>2</th>\n",
       "      <td>0.660058</td>\n",
       "      <td>0.592799</td>\n",
       "      <td>-0.264359</td>\n",
       "    </tr>\n",
       "    <tr>\n",
       "      <th>3</th>\n",
       "      <td>0.011419</td>\n",
       "      <td>-0.018418</td>\n",
       "      <td>1.043865</td>\n",
       "    </tr>\n",
       "    <tr>\n",
       "      <th>4</th>\n",
       "      <td>0.705664</td>\n",
       "      <td>-0.088020</td>\n",
       "      <td>-0.730065</td>\n",
       "    </tr>\n",
       "    <tr>\n",
       "      <th>5</th>\n",
       "      <td>-0.106560</td>\n",
       "      <td>-0.697150</td>\n",
       "      <td>-0.150251</td>\n",
       "    </tr>\n",
       "    <tr>\n",
       "      <th>6</th>\n",
       "      <td>-0.868542</td>\n",
       "      <td>-0.134925</td>\n",
       "      <td>-0.468683</td>\n",
       "    </tr>\n",
       "    <tr>\n",
       "      <th>7</th>\n",
       "      <td>2.467251</td>\n",
       "      <td>0.763978</td>\n",
       "      <td>-1.230036</td>\n",
       "    </tr>\n",
       "    <tr>\n",
       "      <th>8</th>\n",
       "      <td>-0.377580</td>\n",
       "      <td>0.681337</td>\n",
       "      <td>0.664860</td>\n",
       "    </tr>\n",
       "  </tbody>\n",
       "</table>\n",
       "</div>"
      ],
      "text/plain": [
       "          0         1   y_train\n",
       "0  1.061172  1.194306  0.574369\n",
       "1  1.081972  0.336405 -1.804609\n",
       "2  0.660058  0.592799 -0.264359\n",
       "3  0.011419 -0.018418  1.043865\n",
       "4  0.705664 -0.088020 -0.730065\n",
       "5 -0.106560 -0.697150 -0.150251\n",
       "6 -0.868542 -0.134925 -0.468683\n",
       "7  2.467251  0.763978 -1.230036\n",
       "8 -0.377580  0.681337  0.664860"
      ]
     },
     "execution_count": 23,
     "metadata": {},
     "output_type": "execute_result"
    }
   ],
   "source": [
    "X_df"
   ]
  },
  {
   "cell_type": "code",
   "execution_count": 24,
   "metadata": {},
   "outputs": [
    {
     "data": {
      "text/plain": [
       "array([[6, 2, 8, 4],\n",
       "       [5, 0, 6, 5],\n",
       "       [3, 8, 3, 2],\n",
       "       [8, 3, 2, 3],\n",
       "       [4, 1, 5, 1],\n",
       "       [2, 4, 1, 6],\n",
       "       [1, 5, 4, 0],\n",
       "       [0, 6, 0, 8],\n",
       "       [7, 7, 7, 7]], dtype=int64)"
      ]
     },
     "execution_count": 24,
     "metadata": {},
     "output_type": "execute_result"
    }
   ],
   "source": [
    "sıra_no"
   ]
  },
  {
   "cell_type": "code",
   "execution_count": 25,
   "metadata": {},
   "outputs": [
    {
     "data": {
      "text/plain": [
       "array([[-0.46868298, -0.26435916,  0.66486031, -0.7300654 ],\n",
       "       [-0.15025125,  0.57436907, -0.46868298, -0.15025125],\n",
       "       [ 1.04386547,  0.66486031,  1.04386547, -0.26435916],\n",
       "       [ 0.66486031,  1.04386547, -0.26435916,  1.04386547],\n",
       "       [-0.7300654 , -1.80460881, -0.15025125, -1.80460881],\n",
       "       [-0.26435916, -0.7300654 , -1.80460881, -0.46868298],\n",
       "       [-1.80460881, -0.15025125, -0.7300654 ,  0.57436907],\n",
       "       [ 0.57436907, -0.46868298,  0.57436907,  0.66486031],\n",
       "       [-1.23003569, -1.23003569, -1.23003569, -1.23003569]])"
      ]
     },
     "execution_count": 25,
     "metadata": {},
     "output_type": "execute_result"
    }
   ],
   "source": [
    "y_train[sıra_no]"
   ]
  },
  {
   "cell_type": "code",
   "execution_count": 26,
   "metadata": {},
   "outputs": [
    {
     "data": {
      "text/html": [
       "<div>\n",
       "<style scoped>\n",
       "    .dataframe tbody tr th:only-of-type {\n",
       "        vertical-align: middle;\n",
       "    }\n",
       "\n",
       "    .dataframe tbody tr th {\n",
       "        vertical-align: top;\n",
       "    }\n",
       "\n",
       "    .dataframe thead th {\n",
       "        text-align: right;\n",
       "    }\n",
       "</style>\n",
       "<table border=\"1\" class=\"dataframe\">\n",
       "  <thead>\n",
       "    <tr style=\"text-align: right;\">\n",
       "      <th></th>\n",
       "      <th>0</th>\n",
       "      <th>1</th>\n",
       "      <th>2</th>\n",
       "      <th>3</th>\n",
       "    </tr>\n",
       "  </thead>\n",
       "  <tbody>\n",
       "    <tr>\n",
       "      <th>0</th>\n",
       "      <td>3.679440</td>\n",
       "      <td>0.962917</td>\n",
       "      <td>3.023534</td>\n",
       "      <td>2.469655</td>\n",
       "    </tr>\n",
       "    <tr>\n",
       "      <th>1</th>\n",
       "      <td>2.842340</td>\n",
       "      <td>1.517262</td>\n",
       "      <td>2.847158</td>\n",
       "      <td>1.632554</td>\n",
       "    </tr>\n",
       "    <tr>\n",
       "      <th>2</th>\n",
       "      <td>2.676819</td>\n",
       "      <td>0.838954</td>\n",
       "      <td>2.168850</td>\n",
       "      <td>1.467034</td>\n",
       "    </tr>\n",
       "    <tr>\n",
       "      <th>3</th>\n",
       "      <td>1.416964</td>\n",
       "      <td>1.299559</td>\n",
       "      <td>2.131427</td>\n",
       "      <td>1.486142</td>\n",
       "    </tr>\n",
       "    <tr>\n",
       "      <th>4</th>\n",
       "      <td>2.041607</td>\n",
       "      <td>1.565379</td>\n",
       "      <td>2.895274</td>\n",
       "      <td>0.831821</td>\n",
       "    </tr>\n",
       "    <tr>\n",
       "      <th>5</th>\n",
       "      <td>1.271166</td>\n",
       "      <td>2.096271</td>\n",
       "      <td>2.692180</td>\n",
       "      <td>0.925390</td>\n",
       "    </tr>\n",
       "    <tr>\n",
       "      <th>6</th>\n",
       "      <td>0.420495</td>\n",
       "      <td>2.296028</td>\n",
       "      <td>1.367974</td>\n",
       "      <td>2.249595</td>\n",
       "    </tr>\n",
       "    <tr>\n",
       "      <th>7</th>\n",
       "      <td>4.655191</td>\n",
       "      <td>2.474968</td>\n",
       "      <td>3.999285</td>\n",
       "      <td>3.445405</td>\n",
       "    </tr>\n",
       "    <tr>\n",
       "      <th>8</th>\n",
       "      <td>1.727720</td>\n",
       "      <td>0.988804</td>\n",
       "      <td>1.071813</td>\n",
       "      <td>2.574896</td>\n",
       "    </tr>\n",
       "  </tbody>\n",
       "</table>\n",
       "</div>"
      ],
      "text/plain": [
       "          0         1         2         3\n",
       "0  3.679440  0.962917  3.023534  2.469655\n",
       "1  2.842340  1.517262  2.847158  1.632554\n",
       "2  2.676819  0.838954  2.168850  1.467034\n",
       "3  1.416964  1.299559  2.131427  1.486142\n",
       "4  2.041607  1.565379  2.895274  0.831821\n",
       "5  1.271166  2.096271  2.692180  0.925390\n",
       "6  0.420495  2.296028  1.367974  2.249595\n",
       "7  4.655191  2.474968  3.999285  3.445405\n",
       "8  1.727720  0.988804  1.071813  2.574896"
      ]
     },
     "execution_count": 26,
     "metadata": {},
     "output_type": "execute_result"
    }
   ],
   "source": [
    "pd.DataFrame(distance)"
   ]
  },
  {
   "cell_type": "code",
   "execution_count": 27,
   "metadata": {},
   "outputs": [
    {
     "data": {
      "text/plain": [
       "array([ 0.14164375,  0.32495674,  0.4133476 , -0.3815586 ])"
      ]
     },
     "execution_count": 27,
     "metadata": {},
     "output_type": "execute_result"
    }
   ],
   "source": [
    "k=3\n",
    "y_train[sıra_no][:k,:].mean(axis=0)"
   ]
  },
  {
   "cell_type": "code",
   "execution_count": 28,
   "metadata": {},
   "outputs": [
    {
     "data": {
      "text/plain": [
       "array([[0.42049539, 0.83895417, 1.07181304, 0.83182093],\n",
       "       [1.27116582, 0.96291702, 1.36797402, 0.92538955],\n",
       "       [1.41696379, 0.98880376, 2.1314269 , 1.46703371]])"
      ]
     },
     "execution_count": 28,
     "metadata": {},
     "output_type": "execute_result"
    }
   ],
   "source": [
    "d2 = distance.copy()\n",
    "d2.sort(axis=0)\n",
    "d2[:k,:]"
   ]
  },
  {
   "cell_type": "code",
   "execution_count": 29,
   "metadata": {},
   "outputs": [
    {
     "data": {
      "text/plain": [
       "array([[-0.46868298, -0.26435916,  0.66486031, -0.7300654 ],\n",
       "       [-0.15025125,  0.57436907, -0.46868298, -0.15025125],\n",
       "       [ 1.04386547,  0.66486031,  1.04386547, -0.26435916]])"
      ]
     },
     "execution_count": 29,
     "metadata": {},
     "output_type": "execute_result"
    }
   ],
   "source": [
    "y_train[sıra_no][:k,:]"
   ]
  },
  {
   "cell_type": "code",
   "execution_count": 30,
   "metadata": {},
   "outputs": [
    {
     "data": {
      "text/plain": [
       "array([-0.12817393,  0.29421101,  0.35976981, -0.4116225 ])"
      ]
     },
     "execution_count": 30,
     "metadata": {},
     "output_type": "execute_result"
    }
   ],
   "source": [
    "(1/d2[:k,:] * y_train[sıra_no][:k,:]).sum(axis=0) / (1/d2[:k,:]).sum(axis=0) # ağırlıklara göre mesafeler"
   ]
  },
  {
   "cell_type": "code",
   "execution_count": null,
   "metadata": {},
   "outputs": [],
   "source": []
  },
  {
   "cell_type": "markdown",
   "metadata": {},
   "source": [
    "# KNN ile sağlaması"
   ]
  },
  {
   "cell_type": "code",
   "execution_count": 31,
   "metadata": {},
   "outputs": [
    {
     "data": {
      "text/plain": [
       "array([ 0.14164375,  0.32495674,  0.4133476 , -0.3815586 ])"
      ]
     },
     "execution_count": 31,
     "metadata": {},
     "output_type": "execute_result"
    }
   ],
   "source": [
    "model = KNeighborsRegressor(n_neighbors=3, p=1)\n",
    "model.fit(X,y_train)\n",
    "model.predict(X_test)"
   ]
  },
  {
   "cell_type": "code",
   "execution_count": 32,
   "metadata": {},
   "outputs": [
    {
     "data": {
      "text/plain": [
       "array([-0.12817393,  0.29421101,  0.35976981, -0.4116225 ])"
      ]
     },
     "execution_count": 32,
     "metadata": {},
     "output_type": "execute_result"
    }
   ],
   "source": [
    "model = KNeighborsRegressor(n_neighbors=3, p=1, weights=\"distance\")\n",
    "model.fit(X,y_train)\n",
    "model.predict(X_test)"
   ]
  }
 ],
 "metadata": {
  "kernelspec": {
   "display_name": "Python 3",
   "language": "python",
   "name": "python3"
  },
  "language_info": {
   "codemirror_mode": {
    "name": "ipython",
    "version": 3
   },
   "file_extension": ".py",
   "mimetype": "text/x-python",
   "name": "python",
   "nbconvert_exporter": "python",
   "pygments_lexer": "ipython3",
   "version": "3.7.4"
  }
 },
 "nbformat": 4,
 "nbformat_minor": 4
}
